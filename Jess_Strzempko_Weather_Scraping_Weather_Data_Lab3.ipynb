{
  "nbformat": 4,
  "nbformat_minor": 0,
  "metadata": {
    "colab": {
      "name": "Jess_Strzempko_Weather-Scraping-Weather-Data_Lab3.ipynb",
      "provenance": [],
      "collapsed_sections": [],
      "authorship_tag": "ABX9TyNmLljvGCrsbhGZX+GVpNpg",
      "include_colab_link": true
    },
    "kernelspec": {
      "name": "python3",
      "display_name": "Python 3"
    }
  },
  "cells": [
    {
      "cell_type": "markdown",
      "metadata": {
        "id": "view-in-github",
        "colab_type": "text"
      },
      "source": [
        "<a href=\"https://colab.research.google.com/github/IDCE-MSGIS/lab-3-web-scrapping-weather-data-jstrzempko/blob/master/Jess_Strzempko_Weather_Scraping_Weather_Data_Lab3.ipynb\" target=\"_parent\"><img src=\"https://colab.research.google.com/assets/colab-badge.svg\" alt=\"Open In Colab\"/></a>"
      ]
    },
    {
      "cell_type": "markdown",
      "metadata": {
        "id": "e37TpMiK-laV",
        "colab_type": "text"
      },
      "source": [
        "Jess Strzempko  \n",
        "Created 09.11.20  \n",
        "Python version 3.6.9  \n",
        "IDCE 302 Python Programming  \n",
        "\n",
        "## Lab 3 - Web Scraping Weather Data\n",
        "\n",
        "This script extracts live weather conditions from the National Weather Service website for a given location in the United States. The script currently contains the latitude and longitude for Austin, TX but can be modified for any desired city in the United States. \n",
        "\n",
        "\n",
        "**Inputs:**  \n",
        "\n",
        "* Location in United States  \n",
        "  + Latitude\n",
        "  + Longitude  \n",
        "\n",
        "**Outputs:**  \n",
        "\n",
        "* Current Weather Conditions (detailed)  \n",
        "  + Humidity  \n",
        "  + Wind Speed  \n",
        "  + Barometer  \n",
        "  + Dewpoint  \n",
        "  + Visibility  \n",
        "  + Heat Index  \n",
        "  + Last Updated Information"
      ]
    },
    {
      "cell_type": "code",
      "metadata": {
        "id": "32lfoju_9SEW",
        "colab_type": "code",
        "colab": {}
      },
      "source": [
        "# Import required libraries\n",
        "import requests\n",
        "from bs4 import BeautifulSoup\n",
        "\n",
        "# Provide the latitude and longitude for the location you would like to check the weather for\n",
        "# Lat/lon in decimal degrees provided for Austin, TX\n",
        "lat = '30.2672'\n",
        "lon = '-97.7431'\n",
        "\n",
        "# Create url for the requested location through string concatenation\n",
        "url = 'https://forecast.weather.gov/MapClick.php?lat='+lat+\"&lon=\"+lon\n",
        "# Check if the URL exists\n",
        "# print(url)\n",
        "\n",
        "# Send request to retrieve the web-page using the get() function from the requests library\n",
        "# The page variable stores the response from the web-page\n",
        "page = requests.get(url)\n",
        "\n",
        "# Create a BeautifulSoup object with the response from the URL\n",
        "# Access contents of the web-page using .content\n",
        "# html_parser is used since our page is in HTML format\n",
        "soup=BeautifulSoup(page.content,\"html.parser\")\n",
        "\n",
        "# Locate element on page to be scraped\n",
        "# This element is located within an id tag called current_conditions_detail\n",
        "# find() locates the element in the BeautifulSoup object\n",
        "weather_conditions_details = soup.find(id=\"current_conditions_detail\")\n",
        "\n",
        "type(weather_conditions_details)\n",
        "\n",
        "# Extract text from the selected BeautifulSoup object using .text\n",
        "weather_conditions_details = weather_conditions_details.text\n",
        "\n",
        "# Final Output\n",
        "# Return scraped information\n",
        "print('The Current Weather Conditions at latitude: '+ lat +  \", longitude: \" + lon + \" are:\" + weather_conditions_details)"
      ],
      "execution_count": null,
      "outputs": []
    }
  ]
}